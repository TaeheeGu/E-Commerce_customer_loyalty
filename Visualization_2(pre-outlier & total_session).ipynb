{
 "cells": [
  {
   "cell_type": "code",
   "execution_count": 23,
   "metadata": {},
   "outputs": [],
   "source": [
    "import pandas as pd\n",
    "import matplotlib.pyplot as plt\n",
    "import numpy as np"
   ]
  },
  {
   "cell_type": "code",
   "execution_count": 24,
   "metadata": {},
   "outputs": [],
   "source": [
    "import matplotlib as mat\n",
    "from scipy import stats\n",
    "plt.rcParams['font.family'] = 'HYGothic-Extra'\n",
    "import matplotlib.font_manager as fonm\n",
    "font_list = [font.name for font in fonm.fontManager.ttflist]\n",
    "# for f in font_list:\n",
    "#     print(f)\n",
    "plt.rcParams['font.family'] = 'HYGothic-Extra'"
   ]
  },
  {
   "cell_type": "code",
   "execution_count": 25,
   "metadata": {},
   "outputs": [
    {
     "data": {
      "text/html": [
       "<div>\n",
       "<style scoped>\n",
       "    .dataframe tbody tr th:only-of-type {\n",
       "        vertical-align: middle;\n",
       "    }\n",
       "\n",
       "    .dataframe tbody tr th {\n",
       "        vertical-align: top;\n",
       "    }\n",
       "\n",
       "    .dataframe thead th {\n",
       "        text-align: right;\n",
       "    }\n",
       "</style>\n",
       "<table border=\"1\" class=\"dataframe\">\n",
       "  <thead>\n",
       "    <tr style=\"text-align: right;\">\n",
       "      <th></th>\n",
       "      <th>price</th>\n",
       "      <th>category_accessories</th>\n",
       "      <th>category_apparel</th>\n",
       "      <th>category_appliances</th>\n",
       "      <th>category_auto</th>\n",
       "      <th>category_computers</th>\n",
       "      <th>category_construction</th>\n",
       "      <th>category_country_yard</th>\n",
       "      <th>category_electronics</th>\n",
       "      <th>category_furniture</th>\n",
       "      <th>...</th>\n",
       "      <th>dayofweek_Mon</th>\n",
       "      <th>dayofweek_Tus</th>\n",
       "      <th>dayofweek_Wed</th>\n",
       "      <th>dayofweek_Thu</th>\n",
       "      <th>dayofweek_Fri</th>\n",
       "      <th>dayofweek_Sat</th>\n",
       "      <th>dayofweek_Sun</th>\n",
       "      <th>purchase_count</th>\n",
       "      <th>session</th>\n",
       "      <th>total_session</th>\n",
       "    </tr>\n",
       "  </thead>\n",
       "  <tbody>\n",
       "    <tr>\n",
       "      <th>0</th>\n",
       "      <td>50.71</td>\n",
       "      <td>0</td>\n",
       "      <td>0</td>\n",
       "      <td>0</td>\n",
       "      <td>0</td>\n",
       "      <td>0</td>\n",
       "      <td>0</td>\n",
       "      <td>0</td>\n",
       "      <td>0</td>\n",
       "      <td>0</td>\n",
       "      <td>...</td>\n",
       "      <td>0</td>\n",
       "      <td>0</td>\n",
       "      <td>0</td>\n",
       "      <td>0</td>\n",
       "      <td>0</td>\n",
       "      <td>0</td>\n",
       "      <td>1</td>\n",
       "      <td>1</td>\n",
       "      <td>0</td>\n",
       "      <td>0</td>\n",
       "    </tr>\n",
       "    <tr>\n",
       "      <th>1</th>\n",
       "      <td>184.52</td>\n",
       "      <td>0</td>\n",
       "      <td>0</td>\n",
       "      <td>0</td>\n",
       "      <td>0</td>\n",
       "      <td>0</td>\n",
       "      <td>1</td>\n",
       "      <td>0</td>\n",
       "      <td>0</td>\n",
       "      <td>0</td>\n",
       "      <td>...</td>\n",
       "      <td>0</td>\n",
       "      <td>0</td>\n",
       "      <td>0</td>\n",
       "      <td>1</td>\n",
       "      <td>0</td>\n",
       "      <td>0</td>\n",
       "      <td>0</td>\n",
       "      <td>1</td>\n",
       "      <td>0</td>\n",
       "      <td>0</td>\n",
       "    </tr>\n",
       "    <tr>\n",
       "      <th>2</th>\n",
       "      <td>244.28</td>\n",
       "      <td>0</td>\n",
       "      <td>0</td>\n",
       "      <td>0</td>\n",
       "      <td>0</td>\n",
       "      <td>0</td>\n",
       "      <td>0</td>\n",
       "      <td>0</td>\n",
       "      <td>0</td>\n",
       "      <td>0</td>\n",
       "      <td>...</td>\n",
       "      <td>0</td>\n",
       "      <td>0</td>\n",
       "      <td>0</td>\n",
       "      <td>1</td>\n",
       "      <td>0</td>\n",
       "      <td>0</td>\n",
       "      <td>0</td>\n",
       "      <td>1</td>\n",
       "      <td>0</td>\n",
       "      <td>0</td>\n",
       "    </tr>\n",
       "    <tr>\n",
       "      <th>3</th>\n",
       "      <td>56.60</td>\n",
       "      <td>0</td>\n",
       "      <td>0</td>\n",
       "      <td>0</td>\n",
       "      <td>0</td>\n",
       "      <td>0</td>\n",
       "      <td>0</td>\n",
       "      <td>0</td>\n",
       "      <td>0</td>\n",
       "      <td>1</td>\n",
       "      <td>...</td>\n",
       "      <td>0</td>\n",
       "      <td>1</td>\n",
       "      <td>0</td>\n",
       "      <td>0</td>\n",
       "      <td>0</td>\n",
       "      <td>0</td>\n",
       "      <td>0</td>\n",
       "      <td>1</td>\n",
       "      <td>0</td>\n",
       "      <td>3</td>\n",
       "    </tr>\n",
       "    <tr>\n",
       "      <th>4</th>\n",
       "      <td>145.17</td>\n",
       "      <td>0</td>\n",
       "      <td>0</td>\n",
       "      <td>0</td>\n",
       "      <td>0</td>\n",
       "      <td>0</td>\n",
       "      <td>0</td>\n",
       "      <td>0</td>\n",
       "      <td>0</td>\n",
       "      <td>0</td>\n",
       "      <td>...</td>\n",
       "      <td>0</td>\n",
       "      <td>1</td>\n",
       "      <td>0</td>\n",
       "      <td>0</td>\n",
       "      <td>0</td>\n",
       "      <td>0</td>\n",
       "      <td>0</td>\n",
       "      <td>1</td>\n",
       "      <td>1</td>\n",
       "      <td>3</td>\n",
       "    </tr>\n",
       "  </tbody>\n",
       "</table>\n",
       "<p>5 rows × 30 columns</p>\n",
       "</div>"
      ],
      "text/plain": [
       "    price  category_accessories  category_apparel  category_appliances  \\\n",
       "0   50.71                     0                 0                    0   \n",
       "1  184.52                     0                 0                    0   \n",
       "2  244.28                     0                 0                    0   \n",
       "3   56.60                     0                 0                    0   \n",
       "4  145.17                     0                 0                    0   \n",
       "\n",
       "   category_auto  category_computers  category_construction  \\\n",
       "0              0                   0                      0   \n",
       "1              0                   0                      1   \n",
       "2              0                   0                      0   \n",
       "3              0                   0                      0   \n",
       "4              0                   0                      0   \n",
       "\n",
       "   category_country_yard  category_electronics  category_furniture  ...  \\\n",
       "0                      0                     0                   0  ...   \n",
       "1                      0                     0                   0  ...   \n",
       "2                      0                     0                   0  ...   \n",
       "3                      0                     0                   1  ...   \n",
       "4                      0                     0                   0  ...   \n",
       "\n",
       "   dayofweek_Mon  dayofweek_Tus  dayofweek_Wed  dayofweek_Thu  dayofweek_Fri  \\\n",
       "0              0              0              0              0              0   \n",
       "1              0              0              0              1              0   \n",
       "2              0              0              0              1              0   \n",
       "3              0              1              0              0              0   \n",
       "4              0              1              0              0              0   \n",
       "\n",
       "   dayofweek_Sat  dayofweek_Sun  purchase_count  session  total_session  \n",
       "0              0              1               1        0              0  \n",
       "1              0              0               1        0              0  \n",
       "2              0              0               1        0              0  \n",
       "3              0              0               1        0              3  \n",
       "4              0              0               1        1              3  \n",
       "\n",
       "[5 rows x 30 columns]"
      ]
     },
     "execution_count": 25,
     "metadata": {},
     "output_type": "execute_result"
    }
   ],
   "source": [
    "#데이터 불러오기\n",
    "df = pd.read_csv(\"./Dataset/E-commerce(split_session).csv\")\n",
    "df.head()"
   ]
  },
  {
   "cell_type": "markdown",
   "metadata": {},
   "source": [
    "### purchase_count"
   ]
  },
  {
   "cell_type": "code",
   "execution_count": 26,
   "metadata": {},
   "outputs": [
    {
     "data": {
      "text/plain": [
       "1      81.991892\n",
       "2      13.846303\n",
       "3       2.229744\n",
       "4       1.201536\n",
       "5       0.273447\n",
       "         ...    \n",
       "47      0.000021\n",
       "45      0.000021\n",
       "43      0.000021\n",
       "42      0.000021\n",
       "403     0.000021\n",
       "Name: purchase_count, Length: 65, dtype: float64"
      ]
     },
     "execution_count": 26,
     "metadata": {},
     "output_type": "execute_result"
    }
   ],
   "source": [
    "df['purchase_count'].value_counts(normalize=True)*100"
   ]
  },
  {
   "cell_type": "code",
   "execution_count": 27,
   "metadata": {},
   "outputs": [
    {
     "data": {
      "image/png": "[encoded data removed]",
      "text/plain": [
       "<Figure size 432x288 with 1 Axes>"
      ]
     },
     "metadata": {
      "needs_background": "light"
     },
     "output_type": "display_data"
    }
   ],
   "source": [
    "plt.boxplot(df[\"purchase_count\"])\n",
    "plt.title('E-commerce : session별 구매 횟수에 대한 상자그림')\n",
    "plt.show()"
   ]
  },
  {
   "cell_type": "code",
   "execution_count": 28,
   "metadata": {},
   "outputs": [
    {
     "name": "stdout",
     "output_type": "stream",
     "text": [
      "1\n",
      "403\n",
      "219\n"
     ]
    },
    {
     "data": {
      "image/png": "[encoded data removed]",
      "text/plain": [
       "<Figure size 432x288 with 1 Axes>"
      ]
     },
     "metadata": {
      "needs_background": "light"
     },
     "output_type": "display_data"
    }
   ],
   "source": [
    "user_freq = df[\"purchase_count\"]\n",
    "\n",
    "ymin = user_freq.min()\n",
    "ymax = user_freq.max()\n",
    "print(ymin)\n",
    "print(ymax)\n",
    "print(len(df.loc[df[\"purchase_count\"]>20]))\n",
    "\n",
    "plt.hlines(20,0,len(user_freq),color=\"red\")\n",
    "plt.plot(user_freq,color=\"orange\",linewidth=1.5)\n",
    "plt.title('purchase_count')\n",
    "plt.xlim(0, len(user_freq))\n",
    "plt.ylim(ymin, ymax)\n",
    "plt.grid(True)\n",
    "plt.show()"
   ]
  },
  {
   "cell_type": "markdown",
   "metadata": {},
   "source": [
    "### price 분포"
   ]
  },
  {
   "cell_type": "code",
   "execution_count": 13,
   "metadata": {},
   "outputs": [
    {
     "data": {
      "text/plain": [
       "128.42      0.408812\n",
       "154.42      0.351693\n",
       "643.23      0.288976\n",
       "180.16      0.273239\n",
       "51.46       0.253978\n",
       "              ...   \n",
       "10594.01    0.000021\n",
       "1906.59     0.000021\n",
       "834.10      0.000021\n",
       "605.12      0.000021\n",
       "2204.69     0.000021\n",
       "Name: price, Length: 211206, dtype: float64"
      ]
     },
     "execution_count": 13,
     "metadata": {},
     "output_type": "execute_result"
    }
   ],
   "source": [
    "df['price'].value_counts(normalize=True)*100"
   ]
  },
  {
   "cell_type": "code",
   "execution_count": 14,
   "metadata": {},
   "outputs": [
    {
     "name": "stdout",
     "output_type": "stream",
     "text": [
      "0.4\n",
      "196178.62000000017\n",
      "392313\n"
     ]
    },
    {
     "data": {
      "image/png": "[encoded data removed]",
      "text/plain": [
       "<Figure size 432x288 with 1 Axes>"
      ]
     },
     "metadata": {
      "needs_background": "light"
     },
     "output_type": "display_data"
    }
   ],
   "source": [
    "user_freq = df[\"price\"]\n",
    "\n",
    "ymin = user_freq.min()\n",
    "ymax = user_freq.max()\n",
    "print(ymin)\n",
    "print(ymax)\n",
    "print(len(df.loc[df[\"price\"]>1040.46]))\n",
    "\n",
    "#plt.hlines(25000,0,len(user_freq),color=\"red\")\n",
    "plt.plot(user_freq,color=\"orange\",linewidth=1.5)\n",
    "plt.title('E-commerce : 사용자의 구매 금액에 따른 히스토그램')\n",
    "plt.xlim(0, len(user_freq))\n",
    "plt.ylim(ymin, ymax+1000)\n",
    "plt.grid(True)\n",
    "plt.show()"
   ]
  },
  {
   "cell_type": "code",
   "execution_count": 15,
   "metadata": {},
   "outputs": [
    {
     "data": {
      "image/png": "[encoded data removed]",
      "text/plain": [
       "<Figure size 432x288 with 1 Axes>"
      ]
     },
     "metadata": {
      "needs_background": "light"
     },
     "output_type": "display_data"
    }
   ],
   "source": [
    "plt.boxplot(df[\"price\"], \n",
    "            notch=1, # if 'True' then notched box plot\n",
    "            sym='rs', # symbol: red square\n",
    "            vert=0 # vertical : if 'False' then horizontal box plot\n",
    "           )\n",
    "\n",
    "plt.show()"
   ]
  },
  {
   "cell_type": "markdown",
   "metadata": {},
   "source": [
    "### total_session"
   ]
  },
  {
   "cell_type": "code",
   "execution_count": 16,
   "metadata": {},
   "outputs": [
    {
     "data": {
      "text/plain": [
       "0      22.056649\n",
       "1      15.068489\n",
       "2      10.341235\n",
       "3       7.419239\n",
       "4       5.541913\n",
       "         ...    \n",
       "163     0.003400\n",
       "162     0.003379\n",
       "154     0.003214\n",
       "141     0.002944\n",
       "132     0.002757\n",
       "Name: total_session, Length: 247, dtype: float64"
      ]
     },
     "execution_count": 16,
     "metadata": {},
     "output_type": "execute_result"
    }
   ],
   "source": [
    "df['total_session'].value_counts(normalize=True)*100"
   ]
  },
  {
   "cell_type": "code",
   "execution_count": 17,
   "metadata": {},
   "outputs": [
    {
     "data": {
      "image/png": "[encoded data removed]",
      "text/plain": [
       "<Figure size 432x288 with 1 Axes>"
      ]
     },
     "metadata": {
      "needs_background": "light"
     },
     "output_type": "display_data"
    }
   ],
   "source": [
    "plt.boxplot(df[\"total_session\"].value_counts(normalize=True))\n",
    "plt.title('E-commerce : session별 구매 횟수에 대한 상자그림')\n",
    "plt.show()"
   ]
  },
  {
   "cell_type": "code",
   "execution_count": 22,
   "metadata": {},
   "outputs": [
    {
     "data": {
      "image/png": "[encoded data removed]",
      "text/plain": [
       "<Figure size 432x288 with 1 Axes>"
      ]
     },
     "metadata": {
      "needs_background": "light"
     },
     "output_type": "display_data"
    }
   ],
   "source": [
    "total_session = (df[\"total_session\"].value_counts(normalize=True, sort=False))\n",
    "\n",
    "ymin = total_session.min()\n",
    "ymax = total_session.max()\n",
    "\n",
    "plt.plot(total_session,color=\"green\",linewidth=1.5)\n",
    "plt.title('total_session의 분포')\n",
    "plt.xlim(0,9)\n",
    "plt.ylim(0, 0.3)\n",
    "plt.grid(True)\n",
    "plt.show()"
   ]
  },
  {
   "cell_type": "code",
   "execution_count": 20,
   "metadata": {},
   "outputs": [
    {
     "data": {
      "image/png": "[encoded data removed]",
      "text/plain": [
       "<Figure size 432x288 with 1 Axes>"
      ]
     },
     "metadata": {
      "needs_background": "light"
     },
     "output_type": "display_data"
    }
   ],
   "source": [
    "user_freq = df[\"total_session\"].value_counts(normalize=True)\n",
    "user_freq_stack = []\n",
    "\n",
    "stack = 0\n",
    "for i, freq in enumerate(user_freq):\n",
    "    stack += freq\n",
    "    user_freq_stack.append(stack)\n",
    "    \n",
    "ymin = min(user_freq_stack)\n",
    "ymax = max(user_freq_stack)\n",
    "\n",
    "plt.plot(user_freq_stack[6:],color=\"orange\",linewidth=1.5)\n",
    "plt.title('E-commerce : 사용자의 구매 빈도수에 따른 누적히스토그램')\n",
    "# plt.xlim(6,250)\n",
    "plt.ylim(0.7, 1)\n",
    "#plt.fill_between(user_freq_stack.index,ymin,user_freq_stack,color=\"orange\",alpha=0.3)\n",
    "plt.grid(True)\n",
    "plt.subplots_adjust(wspace=1)\n",
    "plt.show()"
   ]
  },
  {
   "cell_type": "code",
   "execution_count": null,
   "metadata": {},
   "outputs": [],
   "source": []
  }
 ],
 "metadata": {
  "kernelspec": {
   "display_name": "Python 3",
   "language": "python",
   "name": "python3"
  },
  "language_info": {
   "codemirror_mode": {
    "name": "ipython",
    "version": 3
   },
   "file_extension": ".py",
   "mimetype": "text/x-python",
   "name": "python",
   "nbconvert_exporter": "python",
   "pygments_lexer": "ipython3",
   "version": "3.8.3"
  }
 },
 "nbformat": 4,
 "nbformat_minor": 4
}
