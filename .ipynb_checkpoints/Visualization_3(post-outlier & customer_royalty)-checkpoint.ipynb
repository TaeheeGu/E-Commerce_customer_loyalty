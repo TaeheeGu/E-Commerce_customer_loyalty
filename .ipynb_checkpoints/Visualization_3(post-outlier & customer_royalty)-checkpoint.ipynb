{
 "cells": [
  {
   "cell_type": "code",
   "execution_count": 3,
   "metadata": {},
   "outputs": [],
   "source": [
    "import pandas as pd\n",
    "import matplotlib.pyplot as plt\n",
    "import numpy as np"
   ]
  },
  {
   "cell_type": "code",
   "execution_count": 10,
   "metadata": {},
   "outputs": [],
   "source": [
    "import matplotlib as mat\n",
    "from scipy import stats\n",
    "plt.rcParams['font.family'] = 'HYGothic-Extra'\n",
    "import matplotlib.font_manager as fonm\n",
    "font_list = [font.name for font in fonm.fontManager.ttflist]\n",
    "# for f in font_list:\n",
    "#     print(f)\n",
    "plt.rcParams['font.family'] = 'HYGothic-Extra'"
   ]
  },
  {
   "cell_type": "code",
   "execution_count": 17,
   "metadata": {},
   "outputs": [
    {
     "data": {
      "text/html": [
       "<div>\n",
       "<style scoped>\n",
       "    .dataframe tbody tr th:only-of-type {\n",
       "        vertical-align: middle;\n",
       "    }\n",
       "\n",
       "    .dataframe tbody tr th {\n",
       "        vertical-align: top;\n",
       "    }\n",
       "\n",
       "    .dataframe thead th {\n",
       "        text-align: right;\n",
       "    }\n",
       "</style>\n",
       "<table border=\"1\" class=\"dataframe\">\n",
       "  <thead>\n",
       "    <tr style=\"text-align: right;\">\n",
       "      <th></th>\n",
       "      <th>price</th>\n",
       "      <th>category_accessories</th>\n",
       "      <th>category_apparel</th>\n",
       "      <th>category_appliances</th>\n",
       "      <th>category_auto</th>\n",
       "      <th>category_computers</th>\n",
       "      <th>category_construction</th>\n",
       "      <th>category_country_yard</th>\n",
       "      <th>category_electronics</th>\n",
       "      <th>category_furniture</th>\n",
       "      <th>...</th>\n",
       "      <th>dayofweek_Mon</th>\n",
       "      <th>dayofweek_Tus</th>\n",
       "      <th>dayofweek_Wed</th>\n",
       "      <th>dayofweek_Thu</th>\n",
       "      <th>dayofweek_Fri</th>\n",
       "      <th>dayofweek_Sat</th>\n",
       "      <th>dayofweek_Sun</th>\n",
       "      <th>purchase_count</th>\n",
       "      <th>session</th>\n",
       "      <th>customer_royalty</th>\n",
       "    </tr>\n",
       "  </thead>\n",
       "  <tbody>\n",
       "    <tr>\n",
       "      <th>0</th>\n",
       "      <td>-0.928428</td>\n",
       "      <td>0</td>\n",
       "      <td>0</td>\n",
       "      <td>0</td>\n",
       "      <td>0</td>\n",
       "      <td>0</td>\n",
       "      <td>0</td>\n",
       "      <td>0</td>\n",
       "      <td>0</td>\n",
       "      <td>0</td>\n",
       "      <td>...</td>\n",
       "      <td>0</td>\n",
       "      <td>0</td>\n",
       "      <td>0</td>\n",
       "      <td>0</td>\n",
       "      <td>0</td>\n",
       "      <td>0</td>\n",
       "      <td>1</td>\n",
       "      <td>1</td>\n",
       "      <td>0</td>\n",
       "      <td>0</td>\n",
       "    </tr>\n",
       "    <tr>\n",
       "      <th>1</th>\n",
       "      <td>-0.399361</td>\n",
       "      <td>0</td>\n",
       "      <td>0</td>\n",
       "      <td>0</td>\n",
       "      <td>0</td>\n",
       "      <td>0</td>\n",
       "      <td>1</td>\n",
       "      <td>0</td>\n",
       "      <td>0</td>\n",
       "      <td>0</td>\n",
       "      <td>...</td>\n",
       "      <td>0</td>\n",
       "      <td>0</td>\n",
       "      <td>0</td>\n",
       "      <td>1</td>\n",
       "      <td>0</td>\n",
       "      <td>0</td>\n",
       "      <td>0</td>\n",
       "      <td>1</td>\n",
       "      <td>0</td>\n",
       "      <td>0</td>\n",
       "    </tr>\n",
       "    <tr>\n",
       "      <th>2</th>\n",
       "      <td>-0.163077</td>\n",
       "      <td>0</td>\n",
       "      <td>0</td>\n",
       "      <td>0</td>\n",
       "      <td>0</td>\n",
       "      <td>0</td>\n",
       "      <td>0</td>\n",
       "      <td>0</td>\n",
       "      <td>0</td>\n",
       "      <td>0</td>\n",
       "      <td>...</td>\n",
       "      <td>0</td>\n",
       "      <td>0</td>\n",
       "      <td>0</td>\n",
       "      <td>1</td>\n",
       "      <td>0</td>\n",
       "      <td>0</td>\n",
       "      <td>0</td>\n",
       "      <td>1</td>\n",
       "      <td>0</td>\n",
       "      <td>0</td>\n",
       "    </tr>\n",
       "    <tr>\n",
       "      <th>3</th>\n",
       "      <td>-0.905140</td>\n",
       "      <td>0</td>\n",
       "      <td>0</td>\n",
       "      <td>0</td>\n",
       "      <td>0</td>\n",
       "      <td>0</td>\n",
       "      <td>0</td>\n",
       "      <td>0</td>\n",
       "      <td>0</td>\n",
       "      <td>1</td>\n",
       "      <td>...</td>\n",
       "      <td>0</td>\n",
       "      <td>1</td>\n",
       "      <td>0</td>\n",
       "      <td>0</td>\n",
       "      <td>0</td>\n",
       "      <td>0</td>\n",
       "      <td>0</td>\n",
       "      <td>1</td>\n",
       "      <td>0</td>\n",
       "      <td>1</td>\n",
       "    </tr>\n",
       "    <tr>\n",
       "      <th>4</th>\n",
       "      <td>-0.554946</td>\n",
       "      <td>0</td>\n",
       "      <td>0</td>\n",
       "      <td>0</td>\n",
       "      <td>0</td>\n",
       "      <td>0</td>\n",
       "      <td>0</td>\n",
       "      <td>0</td>\n",
       "      <td>0</td>\n",
       "      <td>0</td>\n",
       "      <td>...</td>\n",
       "      <td>0</td>\n",
       "      <td>1</td>\n",
       "      <td>0</td>\n",
       "      <td>0</td>\n",
       "      <td>0</td>\n",
       "      <td>0</td>\n",
       "      <td>0</td>\n",
       "      <td>1</td>\n",
       "      <td>1</td>\n",
       "      <td>1</td>\n",
       "    </tr>\n",
       "  </tbody>\n",
       "</table>\n",
       "<p>5 rows × 30 columns</p>\n",
       "</div>"
      ],
      "text/plain": [
       "      price  category_accessories  category_apparel  category_appliances  \\\n",
       "0 -0.928428                     0                 0                    0   \n",
       "1 -0.399361                     0                 0                    0   \n",
       "2 -0.163077                     0                 0                    0   \n",
       "3 -0.905140                     0                 0                    0   \n",
       "4 -0.554946                     0                 0                    0   \n",
       "\n",
       "   category_auto  category_computers  category_construction  \\\n",
       "0              0                   0                      0   \n",
       "1              0                   0                      1   \n",
       "2              0                   0                      0   \n",
       "3              0                   0                      0   \n",
       "4              0                   0                      0   \n",
       "\n",
       "   category_country_yard  category_electronics  category_furniture  ...  \\\n",
       "0                      0                     0                   0  ...   \n",
       "1                      0                     0                   0  ...   \n",
       "2                      0                     0                   0  ...   \n",
       "3                      0                     0                   1  ...   \n",
       "4                      0                     0                   0  ...   \n",
       "\n",
       "   dayofweek_Mon  dayofweek_Tus  dayofweek_Wed  dayofweek_Thu  dayofweek_Fri  \\\n",
       "0              0              0              0              0              0   \n",
       "1              0              0              0              1              0   \n",
       "2              0              0              0              1              0   \n",
       "3              0              1              0              0              0   \n",
       "4              0              1              0              0              0   \n",
       "\n",
       "   dayofweek_Sat  dayofweek_Sun  purchase_count  session  customer_royalty  \n",
       "0              0              1               1        0                 0  \n",
       "1              0              0               1        0                 0  \n",
       "2              0              0               1        0                 0  \n",
       "3              0              0               1        0                 1  \n",
       "4              0              0               1        1                 1  \n",
       "\n",
       "[5 rows x 30 columns]"
      ]
     },
     "execution_count": 17,
     "metadata": {},
     "output_type": "execute_result"
    }
   ],
   "source": [
    "#데이터 불러오기\n",
    "df = pd.read_csv(\"./Dataset/E-commerce(royalty).csv\")\n",
    "df.head()"
   ]
  },
  {
   "cell_type": "markdown",
   "metadata": {},
   "source": [
    "### 이상치 제거된 purcahse_count"
   ]
  },
  {
   "cell_type": "code",
   "execution_count": 19,
   "metadata": {},
   "outputs": [
    {
     "name": "stdout",
     "output_type": "stream",
     "text": [
      "1\n",
      "20\n"
     ]
    },
    {
     "data": {
      "image/png": "[encoded data removed]",
      "text/plain": [
       "<Figure size 432x288 with 1 Axes>"
      ]
     },
     "metadata": {
      "needs_background": "light"
     },
     "output_type": "display_data"
    }
   ],
   "source": [
    "user_freq = df[\"purchase_count\"]\n",
    "\n",
    "ymin = user_freq.min()\n",
    "ymax = user_freq.max()\n",
    "print(ymin)\n",
    "print(ymax)\n",
    "\n",
    "plt.plot(user_freq,color=\"orange\",linewidth=1.5)\n",
    "plt.title('purchase_count')\n",
    "plt.xlim(0, len(user_freq))\n",
    "plt.ylim(ymin, ymax+5)\n",
    "plt.grid(True)\n",
    "# plt.fill_between(user_freq.index,ymin,user_freq,color=\"orange\",alpha=0.3)\n",
    "plt.show()"
   ]
  },
  {
   "cell_type": "markdown",
   "metadata": {},
   "source": [
    "### 이상치 제거된 price"
   ]
  },
  {
   "cell_type": "code",
   "execution_count": 20,
   "metadata": {},
   "outputs": [
    {
     "name": "stderr",
     "output_type": "stream",
     "text": [
      "C:\\Users\\GTH\\anaconda3\\lib\\site-packages\\matplotlib\\backends\\backend_agg.py:214: RuntimeWarning: Glyph 8722 missing from current font.\n",
      "  font.set_text(s, 0.0, flags=flags)\n",
      "C:\\Users\\GTH\\anaconda3\\lib\\site-packages\\matplotlib\\backends\\backend_agg.py:183: RuntimeWarning: Glyph 8722 missing from current font.\n",
      "  font.set_text(s, 0, flags=flags)\n"
     ]
    },
    {
     "data": {
      "image/png": "[encoded data removed]",
      "text/plain": [
       "<Figure size 432x288 with 1 Axes>"
      ]
     },
     "metadata": {
      "needs_background": "light"
     },
     "output_type": "display_data"
    }
   ],
   "source": [
    "plt.boxplot(df[\"price\"], \n",
    "            notch=1, # if 'True' then notched box plot\n",
    "            sym='rs', # symbol: red square\n",
    "            vert=0 # vertical : if 'False' then horizontal box plot\n",
    "           )\n",
    "\n",
    "plt.show()"
   ]
  },
  {
   "cell_type": "markdown",
   "metadata": {},
   "source": [
    "### customer_rayalty"
   ]
  },
  {
   "cell_type": "code",
   "execution_count": 21,
   "metadata": {},
   "outputs": [
    {
     "name": "stdout",
     "output_type": "stream",
     "text": [
      "0    0.226879\n",
      "1    0.334376\n",
      "2    0.220781\n",
      "3    0.157475\n",
      "4    0.060489\n",
      "Name: customer_royalty, dtype: float64\n"
     ]
    },
    {
     "data": {
      "image/png": "[encoded data removed]",
      "text/plain": [
       "<Figure size 432x288 with 1 Axes>"
      ]
     },
     "metadata": {
      "needs_background": "light"
     },
     "output_type": "display_data"
    }
   ],
   "source": [
    "customer_royalty = (df[\"customer_royalty\"].value_counts(normalize=True, sort=False))\n",
    "print(customer_royalty)\n",
    "ymin = customer_royalty.min()\n",
    "ymax = customer_royalty.max()\n",
    "\n",
    "plt.plot(customer_royalty,color=\"green\",linewidth=1.5)\n",
    "plt.title('고객의 충성도')\n",
    "plt.xlim(0,4)\n",
    "plt.ylim(0, 0.5)\n",
    "plt.grid(True)\n",
    "\n",
    "plt.show()"
   ]
  },
  {
   "cell_type": "code",
   "execution_count": 63,
   "metadata": {},
   "outputs": [
    {
     "data": {
      "image/png": "[encoded data removed]",
      "text/plain": [
       "<Figure size 432x288 with 1 Axes>"
      ]
     },
     "metadata": {
      "needs_background": "light"
     },
     "output_type": "display_data"
    }
   ],
   "source": [
    "x = df[\"customer_royalty\"].value_counts().keys()\n",
    "y = df[\"customer_royalty\"].value_counts(normalize=True)\n",
    "\n",
    "\n",
    "plt.bar(x, y, color='orange', linewidth = 1.5)\n",
    "plt.ylim(0, 0.4)\n",
    "plt.title('고객의 충성도')\n",
    "plt.grid(True)\n",
    "plt.show()"
   ]
  },
  {
   "cell_type": "code",
   "execution_count": null,
   "metadata": {},
   "outputs": [],
   "source": []
  }
 ],
 "metadata": {
  "kernelspec": {
   "display_name": "Python 3",
   "language": "python",
   "name": "python3"
  },
  "language_info": {
   "codemirror_mode": {
    "name": "ipython",
    "version": 3
   },
   "file_extension": ".py",
   "mimetype": "text/x-python",
   "name": "python",
   "nbconvert_exporter": "python",
   "pygments_lexer": "ipython3",
   "version": "3.8.3"
  }
 },
 "nbformat": 4,
 "nbformat_minor": 4
}
