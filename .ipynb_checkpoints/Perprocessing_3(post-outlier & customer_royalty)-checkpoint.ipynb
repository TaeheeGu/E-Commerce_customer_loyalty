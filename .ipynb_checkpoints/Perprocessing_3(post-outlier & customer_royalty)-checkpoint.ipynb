{
 "cells": [
  {
   "cell_type": "code",
   "execution_count": 24,
   "metadata": {},
   "outputs": [],
   "source": [
    "import pandas as pd"
   ]
  },
  {
   "cell_type": "code",
   "execution_count": 56,
   "metadata": {
    "scrolled": false
   },
   "outputs": [
    {
     "name": "stdout",
     "output_type": "stream",
     "text": [
      "Index(['price', 'category_accessories', 'category_apparel',\n",
      "       'category_appliances', 'category_auto', 'category_computers',\n",
      "       'category_construction', 'category_country_yard',\n",
      "       'category_electronics', 'category_furniture', 'category_kids',\n",
      "       'category_medicine', 'category_sport', 'category_stationery',\n",
      "       'event_timeline_dawn', 'event_timeline_mornig',\n",
      "       'event_timeline_afternoon', 'event_timeline_evening', 'weekday_weekday',\n",
      "       'weekday_weekend', 'dayofweek_Mon', 'dayofweek_Tus', 'dayofweek_Wed',\n",
      "       'dayofweek_Thu', 'dayofweek_Fri', 'dayofweek_Sat', 'dayofweek_Sun',\n",
      "       'purchase_count', 'session', 'total_session'],\n",
      "      dtype='object')\n"
     ]
    },
    {
     "data": {
      "text/html": [
       "<div>\n",
       "<style scoped>\n",
       "    .dataframe tbody tr th:only-of-type {\n",
       "        vertical-align: middle;\n",
       "    }\n",
       "\n",
       "    .dataframe tbody tr th {\n",
       "        vertical-align: top;\n",
       "    }\n",
       "\n",
       "    .dataframe thead th {\n",
       "        text-align: right;\n",
       "    }\n",
       "</style>\n",
       "<table border=\"1\" class=\"dataframe\">\n",
       "  <thead>\n",
       "    <tr style=\"text-align: right;\">\n",
       "      <th></th>\n",
       "      <th>price</th>\n",
       "      <th>category_accessories</th>\n",
       "      <th>category_apparel</th>\n",
       "      <th>category_appliances</th>\n",
       "      <th>category_auto</th>\n",
       "      <th>category_computers</th>\n",
       "      <th>category_construction</th>\n",
       "      <th>category_country_yard</th>\n",
       "      <th>category_electronics</th>\n",
       "      <th>category_furniture</th>\n",
       "      <th>...</th>\n",
       "      <th>dayofweek_Mon</th>\n",
       "      <th>dayofweek_Tus</th>\n",
       "      <th>dayofweek_Wed</th>\n",
       "      <th>dayofweek_Thu</th>\n",
       "      <th>dayofweek_Fri</th>\n",
       "      <th>dayofweek_Sat</th>\n",
       "      <th>dayofweek_Sun</th>\n",
       "      <th>purchase_count</th>\n",
       "      <th>session</th>\n",
       "      <th>total_session</th>\n",
       "    </tr>\n",
       "  </thead>\n",
       "  <tbody>\n",
       "    <tr>\n",
       "      <th>0</th>\n",
       "      <td>50.71</td>\n",
       "      <td>0</td>\n",
       "      <td>0</td>\n",
       "      <td>0</td>\n",
       "      <td>0</td>\n",
       "      <td>0</td>\n",
       "      <td>0</td>\n",
       "      <td>0</td>\n",
       "      <td>0</td>\n",
       "      <td>0</td>\n",
       "      <td>...</td>\n",
       "      <td>0</td>\n",
       "      <td>0</td>\n",
       "      <td>0</td>\n",
       "      <td>0</td>\n",
       "      <td>0</td>\n",
       "      <td>0</td>\n",
       "      <td>1</td>\n",
       "      <td>1</td>\n",
       "      <td>0</td>\n",
       "      <td>0</td>\n",
       "    </tr>\n",
       "    <tr>\n",
       "      <th>1</th>\n",
       "      <td>184.52</td>\n",
       "      <td>0</td>\n",
       "      <td>0</td>\n",
       "      <td>0</td>\n",
       "      <td>0</td>\n",
       "      <td>0</td>\n",
       "      <td>1</td>\n",
       "      <td>0</td>\n",
       "      <td>0</td>\n",
       "      <td>0</td>\n",
       "      <td>...</td>\n",
       "      <td>0</td>\n",
       "      <td>0</td>\n",
       "      <td>0</td>\n",
       "      <td>1</td>\n",
       "      <td>0</td>\n",
       "      <td>0</td>\n",
       "      <td>0</td>\n",
       "      <td>1</td>\n",
       "      <td>0</td>\n",
       "      <td>0</td>\n",
       "    </tr>\n",
       "    <tr>\n",
       "      <th>2</th>\n",
       "      <td>244.28</td>\n",
       "      <td>0</td>\n",
       "      <td>0</td>\n",
       "      <td>0</td>\n",
       "      <td>0</td>\n",
       "      <td>0</td>\n",
       "      <td>0</td>\n",
       "      <td>0</td>\n",
       "      <td>0</td>\n",
       "      <td>0</td>\n",
       "      <td>...</td>\n",
       "      <td>0</td>\n",
       "      <td>0</td>\n",
       "      <td>0</td>\n",
       "      <td>1</td>\n",
       "      <td>0</td>\n",
       "      <td>0</td>\n",
       "      <td>0</td>\n",
       "      <td>1</td>\n",
       "      <td>0</td>\n",
       "      <td>0</td>\n",
       "    </tr>\n",
       "    <tr>\n",
       "      <th>3</th>\n",
       "      <td>56.60</td>\n",
       "      <td>0</td>\n",
       "      <td>0</td>\n",
       "      <td>0</td>\n",
       "      <td>0</td>\n",
       "      <td>0</td>\n",
       "      <td>0</td>\n",
       "      <td>0</td>\n",
       "      <td>0</td>\n",
       "      <td>1</td>\n",
       "      <td>...</td>\n",
       "      <td>0</td>\n",
       "      <td>1</td>\n",
       "      <td>0</td>\n",
       "      <td>0</td>\n",
       "      <td>0</td>\n",
       "      <td>0</td>\n",
       "      <td>0</td>\n",
       "      <td>1</td>\n",
       "      <td>0</td>\n",
       "      <td>3</td>\n",
       "    </tr>\n",
       "    <tr>\n",
       "      <th>4</th>\n",
       "      <td>145.17</td>\n",
       "      <td>0</td>\n",
       "      <td>0</td>\n",
       "      <td>0</td>\n",
       "      <td>0</td>\n",
       "      <td>0</td>\n",
       "      <td>0</td>\n",
       "      <td>0</td>\n",
       "      <td>0</td>\n",
       "      <td>0</td>\n",
       "      <td>...</td>\n",
       "      <td>0</td>\n",
       "      <td>1</td>\n",
       "      <td>0</td>\n",
       "      <td>0</td>\n",
       "      <td>0</td>\n",
       "      <td>0</td>\n",
       "      <td>0</td>\n",
       "      <td>1</td>\n",
       "      <td>1</td>\n",
       "      <td>3</td>\n",
       "    </tr>\n",
       "  </tbody>\n",
       "</table>\n",
       "<p>5 rows × 30 columns</p>\n",
       "</div>"
      ],
      "text/plain": [
       "    price  category_accessories  category_apparel  category_appliances  \\\n",
       "0   50.71                     0                 0                    0   \n",
       "1  184.52                     0                 0                    0   \n",
       "2  244.28                     0                 0                    0   \n",
       "3   56.60                     0                 0                    0   \n",
       "4  145.17                     0                 0                    0   \n",
       "\n",
       "   category_auto  category_computers  category_construction  \\\n",
       "0              0                   0                      0   \n",
       "1              0                   0                      1   \n",
       "2              0                   0                      0   \n",
       "3              0                   0                      0   \n",
       "4              0                   0                      0   \n",
       "\n",
       "   category_country_yard  category_electronics  category_furniture  ...  \\\n",
       "0                      0                     0                   0  ...   \n",
       "1                      0                     0                   0  ...   \n",
       "2                      0                     0                   0  ...   \n",
       "3                      0                     0                   1  ...   \n",
       "4                      0                     0                   0  ...   \n",
       "\n",
       "   dayofweek_Mon  dayofweek_Tus  dayofweek_Wed  dayofweek_Thu  dayofweek_Fri  \\\n",
       "0              0              0              0              0              0   \n",
       "1              0              0              0              1              0   \n",
       "2              0              0              0              1              0   \n",
       "3              0              1              0              0              0   \n",
       "4              0              1              0              0              0   \n",
       "\n",
       "   dayofweek_Sat  dayofweek_Sun  purchase_count  session  total_session  \n",
       "0              0              1               1        0              0  \n",
       "1              0              0               1        0              0  \n",
       "2              0              0               1        0              0  \n",
       "3              0              0               1        0              3  \n",
       "4              0              0               1        1              3  \n",
       "\n",
       "[5 rows x 30 columns]"
      ]
     },
     "execution_count": 56,
     "metadata": {},
     "output_type": "execute_result"
    }
   ],
   "source": [
    "df = pd.read_csv(\"./Dataset/E-commerce(split_session).csv\")\n",
    "print(df.columns)\n",
    "df.head()"
   ]
  },
  {
   "cell_type": "markdown",
   "metadata": {},
   "source": [
    "### purchase_count 이상치 제거"
   ]
  },
  {
   "cell_type": "code",
   "execution_count": 89,
   "metadata": {},
   "outputs": [],
   "source": [
    "new_row = df.loc[df[\"purchase_count\"] >20]\n",
    "df.drop(new_row.index, axis=0, inplace=True)"
   ]
  },
  {
   "cell_type": "code",
   "execution_count": 90,
   "metadata": {},
   "outputs": [
    {
     "data": {
      "text/plain": [
       "1     3954669\n",
       "2      667841\n",
       "3      107546\n",
       "4       57953\n",
       "5       13189\n",
       "6       11521\n",
       "8        3346\n",
       "7        2879\n",
       "10       1270\n",
       "9         923\n",
       "12        570\n",
       "11        367\n",
       "14        298\n",
       "16        168\n",
       "13        166\n",
       "18        104\n",
       "15         88\n",
       "20         50\n",
       "17         44\n",
       "19         33\n",
       "Name: purchase_count, dtype: int64"
      ]
     },
     "execution_count": 90,
     "metadata": {},
     "output_type": "execute_result"
    }
   ],
   "source": [
    "df[\"purchase_count\"].value_counts()"
   ]
  },
  {
   "cell_type": "markdown",
   "metadata": {},
   "source": [
    "### price 이상치 제거"
   ]
  },
  {
   "cell_type": "code",
   "execution_count": 91,
   "metadata": {},
   "outputs": [
    {
     "name": "stdout",
     "output_type": "stream",
     "text": [
      "1039.9099999999999\n",
      "8.137838804484737\n"
     ]
    }
   ],
   "source": [
    "user_freq = df[\"price\"]\n",
    "Q1 = user_freq.quantile(.25)\n",
    "Q3 = user_freq.quantile(.75)\n",
    "IQR = Q3 - Q1\n",
    "Q2 = user_freq.quantile(.5)\n",
    "Q4 = user_freq.quantile(1)\n",
    "\n",
    "outlier = Q3 + 1.5 * IQR\n",
    "print(outlier)\n",
    "print(len(df.loc[df[\"price\"]>outlier])/len(df)*100)"
   ]
  },
  {
   "cell_type": "code",
   "execution_count": 95,
   "metadata": {},
   "outputs": [],
   "source": [
    "new_row = df.loc[df[\"price\"] > outlier]\n",
    "df.drop(new_row.index, axis=0, inplace=True)"
   ]
  },
  {
   "cell_type": "markdown",
   "metadata": {},
   "source": [
    "### price 정규화"
   ]
  },
  {
   "cell_type": "code",
   "execution_count": 98,
   "metadata": {},
   "outputs": [],
   "source": [
    "mean = df[\"price\"].mean()\n",
    "std = df[\"price\"].std()\n",
    "df[\"price\"] = df[\"price\"].apply(lambda x: (x-mean)/ std)"
   ]
  },
  {
   "cell_type": "code",
   "execution_count": 99,
   "metadata": {},
   "outputs": [
    {
     "name": "stdout",
     "output_type": "stream",
     "text": [
      "285.5249790125641\n",
      "252.9166234912892\n"
     ]
    }
   ],
   "source": [
    "print(mean)\n",
    "print(std)"
   ]
  },
  {
   "cell_type": "code",
   "execution_count": 100,
   "metadata": {},
   "outputs": [
    {
     "data": {
      "text/html": [
       "<div>\n",
       "<style scoped>\n",
       "    .dataframe tbody tr th:only-of-type {\n",
       "        vertical-align: middle;\n",
       "    }\n",
       "\n",
       "    .dataframe tbody tr th {\n",
       "        vertical-align: top;\n",
       "    }\n",
       "\n",
       "    .dataframe thead th {\n",
       "        text-align: right;\n",
       "    }\n",
       "</style>\n",
       "<table border=\"1\" class=\"dataframe\">\n",
       "  <thead>\n",
       "    <tr style=\"text-align: right;\">\n",
       "      <th></th>\n",
       "      <th>price</th>\n",
       "      <th>category_accessories</th>\n",
       "      <th>category_apparel</th>\n",
       "      <th>category_appliances</th>\n",
       "      <th>category_auto</th>\n",
       "      <th>category_computers</th>\n",
       "      <th>category_construction</th>\n",
       "      <th>category_country_yard</th>\n",
       "      <th>category_electronics</th>\n",
       "      <th>category_furniture</th>\n",
       "      <th>...</th>\n",
       "      <th>dayofweek_Mon</th>\n",
       "      <th>dayofweek_Tus</th>\n",
       "      <th>dayofweek_Wed</th>\n",
       "      <th>dayofweek_Thu</th>\n",
       "      <th>dayofweek_Fri</th>\n",
       "      <th>dayofweek_Sat</th>\n",
       "      <th>dayofweek_Sun</th>\n",
       "      <th>purchase_count</th>\n",
       "      <th>session</th>\n",
       "      <th>total_session</th>\n",
       "    </tr>\n",
       "  </thead>\n",
       "  <tbody>\n",
       "    <tr>\n",
       "      <th>0</th>\n",
       "      <td>-0.928428</td>\n",
       "      <td>0</td>\n",
       "      <td>0</td>\n",
       "      <td>0</td>\n",
       "      <td>0</td>\n",
       "      <td>0</td>\n",
       "      <td>0</td>\n",
       "      <td>0</td>\n",
       "      <td>0</td>\n",
       "      <td>0</td>\n",
       "      <td>...</td>\n",
       "      <td>0</td>\n",
       "      <td>0</td>\n",
       "      <td>0</td>\n",
       "      <td>0</td>\n",
       "      <td>0</td>\n",
       "      <td>0</td>\n",
       "      <td>1</td>\n",
       "      <td>1</td>\n",
       "      <td>0</td>\n",
       "      <td>0</td>\n",
       "    </tr>\n",
       "    <tr>\n",
       "      <th>1</th>\n",
       "      <td>-0.399361</td>\n",
       "      <td>0</td>\n",
       "      <td>0</td>\n",
       "      <td>0</td>\n",
       "      <td>0</td>\n",
       "      <td>0</td>\n",
       "      <td>1</td>\n",
       "      <td>0</td>\n",
       "      <td>0</td>\n",
       "      <td>0</td>\n",
       "      <td>...</td>\n",
       "      <td>0</td>\n",
       "      <td>0</td>\n",
       "      <td>0</td>\n",
       "      <td>1</td>\n",
       "      <td>0</td>\n",
       "      <td>0</td>\n",
       "      <td>0</td>\n",
       "      <td>1</td>\n",
       "      <td>0</td>\n",
       "      <td>0</td>\n",
       "    </tr>\n",
       "    <tr>\n",
       "      <th>2</th>\n",
       "      <td>-0.163077</td>\n",
       "      <td>0</td>\n",
       "      <td>0</td>\n",
       "      <td>0</td>\n",
       "      <td>0</td>\n",
       "      <td>0</td>\n",
       "      <td>0</td>\n",
       "      <td>0</td>\n",
       "      <td>0</td>\n",
       "      <td>0</td>\n",
       "      <td>...</td>\n",
       "      <td>0</td>\n",
       "      <td>0</td>\n",
       "      <td>0</td>\n",
       "      <td>1</td>\n",
       "      <td>0</td>\n",
       "      <td>0</td>\n",
       "      <td>0</td>\n",
       "      <td>1</td>\n",
       "      <td>0</td>\n",
       "      <td>0</td>\n",
       "    </tr>\n",
       "    <tr>\n",
       "      <th>3</th>\n",
       "      <td>-0.905140</td>\n",
       "      <td>0</td>\n",
       "      <td>0</td>\n",
       "      <td>0</td>\n",
       "      <td>0</td>\n",
       "      <td>0</td>\n",
       "      <td>0</td>\n",
       "      <td>0</td>\n",
       "      <td>0</td>\n",
       "      <td>1</td>\n",
       "      <td>...</td>\n",
       "      <td>0</td>\n",
       "      <td>1</td>\n",
       "      <td>0</td>\n",
       "      <td>0</td>\n",
       "      <td>0</td>\n",
       "      <td>0</td>\n",
       "      <td>0</td>\n",
       "      <td>1</td>\n",
       "      <td>0</td>\n",
       "      <td>3</td>\n",
       "    </tr>\n",
       "    <tr>\n",
       "      <th>4</th>\n",
       "      <td>-0.554946</td>\n",
       "      <td>0</td>\n",
       "      <td>0</td>\n",
       "      <td>0</td>\n",
       "      <td>0</td>\n",
       "      <td>0</td>\n",
       "      <td>0</td>\n",
       "      <td>0</td>\n",
       "      <td>0</td>\n",
       "      <td>0</td>\n",
       "      <td>...</td>\n",
       "      <td>0</td>\n",
       "      <td>1</td>\n",
       "      <td>0</td>\n",
       "      <td>0</td>\n",
       "      <td>0</td>\n",
       "      <td>0</td>\n",
       "      <td>0</td>\n",
       "      <td>1</td>\n",
       "      <td>1</td>\n",
       "      <td>3</td>\n",
       "    </tr>\n",
       "  </tbody>\n",
       "</table>\n",
       "<p>5 rows × 30 columns</p>\n",
       "</div>"
      ],
      "text/plain": [
       "      price  category_accessories  category_apparel  category_appliances  \\\n",
       "0 -0.928428                     0                 0                    0   \n",
       "1 -0.399361                     0                 0                    0   \n",
       "2 -0.163077                     0                 0                    0   \n",
       "3 -0.905140                     0                 0                    0   \n",
       "4 -0.554946                     0                 0                    0   \n",
       "\n",
       "   category_auto  category_computers  category_construction  \\\n",
       "0              0                   0                      0   \n",
       "1              0                   0                      1   \n",
       "2              0                   0                      0   \n",
       "3              0                   0                      0   \n",
       "4              0                   0                      0   \n",
       "\n",
       "   category_country_yard  category_electronics  category_furniture  ...  \\\n",
       "0                      0                     0                   0  ...   \n",
       "1                      0                     0                   0  ...   \n",
       "2                      0                     0                   0  ...   \n",
       "3                      0                     0                   1  ...   \n",
       "4                      0                     0                   0  ...   \n",
       "\n",
       "   dayofweek_Mon  dayofweek_Tus  dayofweek_Wed  dayofweek_Thu  dayofweek_Fri  \\\n",
       "0              0              0              0              0              0   \n",
       "1              0              0              0              1              0   \n",
       "2              0              0              0              1              0   \n",
       "3              0              1              0              0              0   \n",
       "4              0              1              0              0              0   \n",
       "\n",
       "   dayofweek_Sat  dayofweek_Sun  purchase_count  session  total_session  \n",
       "0              0              1               1        0              0  \n",
       "1              0              0               1        0              0  \n",
       "2              0              0               1        0              0  \n",
       "3              0              0               1        0              3  \n",
       "4              0              0               1        1              3  \n",
       "\n",
       "[5 rows x 30 columns]"
      ]
     },
     "execution_count": 100,
     "metadata": {},
     "output_type": "execute_result"
    }
   ],
   "source": [
    "df.head()"
   ]
  },
  {
   "cell_type": "code",
   "execution_count": 101,
   "metadata": {
    "scrolled": true
   },
   "outputs": [
    {
     "data": {
      "text/plain": [
       "4430931"
      ]
     },
     "execution_count": 101,
     "metadata": {},
     "output_type": "execute_result"
    }
   ],
   "source": [
    "len(new_df)"
   ]
  },
  {
   "cell_type": "markdown",
   "metadata": {},
   "source": [
    "# customer_rayalty"
   ]
  },
  {
   "cell_type": "markdown",
   "metadata": {},
   "source": [
    "### total_session 빈도에 따라 customer_royalty로 변경"
   ]
  },
  {
   "cell_type": "code",
   "execution_count": 104,
   "metadata": {},
   "outputs": [],
   "source": [
    "new_df = df.copy()"
   ]
  },
  {
   "cell_type": "code",
   "execution_count": 106,
   "metadata": {
    "scrolled": false
   },
   "outputs": [
    {
     "data": {
      "text/plain": [
       "0      0.226879\n",
       "1      0.154380\n",
       "2      0.105154\n",
       "3      0.074842\n",
       "4      0.055616\n",
       "         ...   \n",
       "192    0.000028\n",
       "199    0.000027\n",
       "132    0.000019\n",
       "240    0.000012\n",
       "299    0.000009\n",
       "Name: total_session, Length: 247, dtype: float64"
      ]
     },
     "execution_count": 106,
     "metadata": {},
     "output_type": "execute_result"
    }
   ],
   "source": [
    "df['total_session'].value_counts(normalize=True)"
   ]
  },
  {
   "cell_type": "code",
   "execution_count": 107,
   "metadata": {},
   "outputs": [],
   "source": [
    "#customer_royalty 0~9까지 10개의 구간으로 나눈다. 0 ~ 4 까지는 total_session에 따라 분리, 이후부터 구간을 설정하여 구분"
   ]
  },
  {
   "cell_type": "code",
   "execution_count": 108,
   "metadata": {},
   "outputs": [],
   "source": [
    "new_df[\"customer_royalty\"] = new_df[\"total_session\"].apply(lambda x: 0 if (x == 0 ) else x)"
   ]
  },
  {
   "cell_type": "code",
   "execution_count": 109,
   "metadata": {},
   "outputs": [],
   "source": [
    "new_df[\"customer_royalty\"] = new_df[\"customer_royalty\"].apply(lambda x: 1 if (x >= 1 and x <= 3 ) else x)"
   ]
  },
  {
   "cell_type": "code",
   "execution_count": 110,
   "metadata": {},
   "outputs": [],
   "source": [
    "new_df[\"customer_royalty\"] = new_df[\"customer_royalty\"].apply(lambda x: 2 if (x >= 4 and x <= 10 ) else x)"
   ]
  },
  {
   "cell_type": "code",
   "execution_count": 111,
   "metadata": {},
   "outputs": [],
   "source": [
    "new_df[\"customer_royalty\"] = new_df[\"customer_royalty\"].apply(lambda x: 3 if (x >= 11 and x <= 39 ) else x)"
   ]
  },
  {
   "cell_type": "code",
   "execution_count": 112,
   "metadata": {},
   "outputs": [],
   "source": [
    "new_df[\"customer_royalty\"] = new_df[\"customer_royalty\"].apply(lambda x: 4 if (x >= 40) else x)"
   ]
  },
  {
   "cell_type": "code",
   "execution_count": 113,
   "metadata": {
    "scrolled": false
   },
   "outputs": [
    {
     "data": {
      "text/plain": [
       "0    0.226879\n",
       "1    0.334376\n",
       "2    0.220781\n",
       "3    0.157475\n",
       "4    0.060489\n",
       "Name: customer_royalty, dtype: float64"
      ]
     },
     "execution_count": 113,
     "metadata": {},
     "output_type": "execute_result"
    }
   ],
   "source": [
    "new_df[\"customer_royalty\"].value_counts(normalize=True, sort=False)"
   ]
  },
  {
   "cell_type": "code",
   "execution_count": 116,
   "metadata": {},
   "outputs": [],
   "source": [
    "#total_session대신 customer_royalty를 사용\n",
    "new_df.drop([\"total_session\"], axis=1, inplace=True)"
   ]
  },
  {
   "cell_type": "code",
   "execution_count": 117,
   "metadata": {},
   "outputs": [],
   "source": [
    "new_df.to_csv(\"./Dataset/E-commerce(royalty).csv\", index=False)"
   ]
  },
  {
   "cell_type": "code",
   "execution_count": null,
   "metadata": {},
   "outputs": [],
   "source": []
  }
 ],
 "metadata": {
  "kernelspec": {
   "display_name": "Python 3",
   "language": "python",
   "name": "python3"
  },
  "language_info": {
   "codemirror_mode": {
    "name": "ipython",
    "version": 3
   },
   "file_extension": ".py",
   "mimetype": "text/x-python",
   "name": "python",
   "nbconvert_exporter": "python",
   "pygments_lexer": "ipython3",
   "version": "3.8.3"
  }
 },
 "nbformat": 4,
 "nbformat_minor": 4
}
