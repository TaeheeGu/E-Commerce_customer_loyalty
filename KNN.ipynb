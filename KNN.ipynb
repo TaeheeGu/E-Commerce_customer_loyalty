{
 "cells": [
  {
   "cell_type": "code",
   "execution_count": 1,
   "metadata": {},
   "outputs": [],
   "source": [
    "from sklearn.neighbors import KNeighborsClassifier\n",
    "from sklearn.model_selection import train_test_split\n",
    "import pandas as pd\n",
    "from tqdm import tqdm\n",
    "import matplotlib.pyplot as plt"
   ]
  },
  {
   "cell_type": "code",
   "execution_count": 2,
   "metadata": {},
   "outputs": [],
   "source": [
    "#데이터 불러오기\n",
    "df = pd.read_csv(\"./Dataset/E-commerce(royalty).csv\")"
   ]
  },
  {
   "cell_type": "code",
   "execution_count": 3,
   "metadata": {},
   "outputs": [
    {
     "data": {
      "text/plain": [
       "Index(['price', 'category_accessories', 'category_apparel',\n",
       "       'category_appliances', 'category_auto', 'category_computers',\n",
       "       'category_construction', 'category_country_yard',\n",
       "       'category_electronics', 'category_furniture', 'category_kids',\n",
       "       'category_medicine', 'category_sport', 'category_stationery',\n",
       "       'event_timeline_dawn', 'event_timeline_mornig',\n",
       "       'event_timeline_afternoon', 'event_timeline_evening', 'weekday_weekday',\n",
       "       'weekday_weekend', 'dayofweek_Mon', 'dayofweek_Tus', 'dayofweek_Wed',\n",
       "       'dayofweek_Thu', 'dayofweek_Fri', 'dayofweek_Sat', 'dayofweek_Sun',\n",
       "       'purchase_count', 'session', 'customer_royalty'],\n",
       "      dtype='object')"
      ]
     },
     "execution_count": 3,
     "metadata": {},
     "output_type": "execute_result"
    }
   ],
   "source": [
    "df.columns"
   ]
  },
  {
   "cell_type": "code",
   "execution_count": 4,
   "metadata": {},
   "outputs": [],
   "source": [
    "#data_x = df[['price', 'category_accessories', 'category_apparel',\n",
    "#       'category_appliances', 'category_auto', 'category_computers',\n",
    "#       'category_construction', 'category_country_yard',\n",
    "#       'category_electronics', 'category_furniture', 'category_kids',\n",
    "#       'category_medicine', 'category_sport', 'category_stationery',\n",
    "#       'event_timeline_dawn', 'event_timeline_mornig',\n",
    "#       'event_timeline_afternoon', 'event_timeline_evening', 'weekday_weekday',\n",
    "#       'weekday_weekend', 'dayofweek_Mon', 'dayofweek_Tus', 'dayofweek_Wed',\n",
    "#       'dayofweek_Thu', 'dayofweek_Fri', 'dayofweek_Sat', 'dayofweek_Sun',\n",
    "#       'purchase_count', 'session']]\n",
    "#data_y = df['customer_royalty']"
   ]
  },
  {
   "cell_type": "code",
   "execution_count": 6,
   "metadata": {
    "scrolled": true
   },
   "outputs": [
    {
     "name": "stdout",
     "output_type": "stream",
     "text": [
      "Wall time: 2.35 s\n"
     ]
    }
   ],
   "source": [
    "#%%time\n",
    "#x_train, y_train, x_test, y_test = train_test_split(data_x, data_y, test_size=0.1, random_state = 100)"
   ]
  },
  {
   "cell_type": "code",
   "execution_count": null,
   "metadata": {},
   "outputs": [],
   "source": [
    "x_train = pd.read_csv(\"./Dataset/E-commerce(x_train).csv\", encoding = \"UTF-8\")\n",
    "x_test = pd.read_csv(\"./Dataset/E-commerce(x_test).csv\", encoding = \"UTF-8\")\n",
    "y_train = pd.read_csv(\"./Dataset/E-commerce(y_train).csv\", encoding = \"UTF-8\")\n",
    "y_test = pd.read_csv(\"./Dataset/E-commerce(y_test).csv\", encoding = \"UTF-8\")"
   ]
  },
  {
   "cell_type": "code",
   "execution_count": 7,
   "metadata": {},
   "outputs": [
    {
     "name": "stdout",
     "output_type": "stream",
     "text": [
      "3987481\n",
      "443054\n",
      "3987481\n",
      "443054\n"
     ]
    }
   ],
   "source": [
    "print(len(x_train))\n",
    "print(len(y_train))\n",
    "print(len(x_test))\n",
    "print(len(y_test))"
   ]
  },
  {
   "cell_type": "code",
   "execution_count": 8,
   "metadata": {},
   "outputs": [],
   "source": [
    "classifier = KNeighborsClassifier(n_neighbors = 3)"
   ]
  },
  {
   "cell_type": "code",
   "execution_count": null,
   "metadata": {},
   "outputs": [],
   "source": [
    "%%time\n",
    "classifier.fit(x_train, x_test)"
   ]
  },
  {
   "cell_type": "code",
   "execution_count": null,
   "metadata": {},
   "outputs": [],
   "source": [
    "print(classifier.score(x_test, y_test))"
   ]
  },
  {
   "cell_type": "code",
   "execution_count": null,
   "metadata": {},
   "outputs": [],
   "source": [
    "k_list = range(1,101)\n",
    "accuracies = []\n",
    "for k in tqdm(k_list):\n",
    "    classifier = KNeighborsClassifier(n_neighbors = k)\n",
    "    classifier.fit(x_train, y_train)\n",
    "    accuracies.append(classifier.score(y_train, y_test))\n",
    "plt.plot(k_list, accuracies)\n",
    "plt.xlabel(\"k\")\n",
    "plt.ylabel(\"Validation Accuracy\")\n",
    "plt.title(\"KNN Classifier Accuracy\")\n",
    "plt.show()"
   ]
  }
 ],
 "metadata": {
  "kernelspec": {
   "display_name": "Python 3",
   "language": "python",
   "name": "python3"
  },
  "language_info": {
   "codemirror_mode": {
    "name": "ipython",
    "version": 3
   },
   "file_extension": ".py",
   "mimetype": "text/x-python",
   "name": "python",
   "nbconvert_exporter": "python",
   "pygments_lexer": "ipython3",
   "version": "3.8.3"
  }
 },
 "nbformat": 4,
 "nbformat_minor": 4
}
