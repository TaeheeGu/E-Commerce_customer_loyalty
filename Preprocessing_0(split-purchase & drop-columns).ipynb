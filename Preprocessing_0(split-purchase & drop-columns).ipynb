{
 "cells": [
  {
   "cell_type": "markdown",
   "metadata": {},
   "source": [
    "# 데이터 셋을 로드하여 병합하여 저장한다."
   ]
  },
  {
   "cell_type": "code",
   "execution_count": 2,
   "metadata": {},
   "outputs": [],
   "source": [
    "import pandas as pd\n",
    "import numpy as np"
   ]
  },
  {
   "cell_type": "code",
   "execution_count": 21,
   "metadata": {},
   "outputs": [],
   "source": [
    "#데이터 불러오기\n",
    "df1 = pd.read_csv(\"./2019-Dec.csv\")\n",
    "df2 = pd.read_csv(\"./2019-Nov.csv\")\n",
    "df3 = pd.read_csv(\"./2019-Oct.csv\")\n",
    "df4 = pd.read_csv(\"./2020-Apr.csv\")\n",
    "df5 = pd.read_csv(\"./2020-Feb.csv\")\n",
    "df6 = pd.read_csv(\"./2020-Mar.csv\")\n",
    "df7 = pd.read_csv(\"./2020-Jan.csv\")"
   ]
  },
  {
   "cell_type": "markdown",
   "metadata": {},
   "source": [
    "### event_type purchase 분리"
   ]
  },
  {
   "cell_type": "code",
   "execution_count": 22,
   "metadata": {},
   "outputs": [],
   "source": [
    "purchase_csv1 = df1[df1[\"event_type\"] == \"purchase\"]\n",
    "purchase_csv2 = df2[df2[\"event_type\"] == \"purchase\"]\n",
    "purchase_csv3 = df3[df3[\"event_type\"] == \"purchase\"]\n",
    "purchase_csv4 = df4[df4[\"event_type\"] == \"purchase\"]\n",
    "purchase_csv5 = df5[df5[\"event_type\"] == \"purchase\"]\n",
    "purchase_csv6 = df6[df6[\"event_type\"] == \"purchase\"]\n",
    "purchase_csv7 = df7[df7[\"event_type\"] == \"purchase\"]"
   ]
  },
  {
   "cell_type": "code",
   "execution_count": 23,
   "metadata": {},
   "outputs": [],
   "source": [
    "purchase_csv1.to_csv(\"./2019-Dec_purchase.csv\")\n",
    "purchase_csv2.to_csv(\"./2019-Nov_purchase.csv\")\n",
    "purchase_csv3.to_csv(\"./2019-Oct_purchase.csv\")\n",
    "purchase_csv4.to_csv(\"./2020-Apr_purchase.csv\")\n",
    "purchase_csv5.to_csv(\"./2020-Feb_purchase.csv\")\n",
    "purchase_csv6.to_csv(\"./2020-Mar_purchase.csv\")\n",
    "purchase_csv7.to_csv(\"./2020-Jan_purchase.csv\")"
   ]
  },
  {
   "cell_type": "code",
   "execution_count": 3,
   "metadata": {},
   "outputs": [],
   "source": [
    "df1 = pd.read_csv(\"./2019-Dec_purchase.csv\")\n",
    "df2 = pd.read_csv(\"./2019-Nov_purchase.csv\")\n",
    "df3 = pd.read_csv(\"./2019-Oct_purchase.csv\")\n",
    "df4 = pd.read_csv(\"./2020-Apr_purchase.csv\")\n",
    "df5 = pd.read_csv(\"./2020-Feb_purchase.csv\")\n",
    "df6 = pd.read_csv(\"./2020-Mar_purchase.csv\")\n",
    "df7 = pd.read_csv(\"./2020-Jan_purchase.csv\")"
   ]
  },
  {
   "cell_type": "code",
   "execution_count": 17,
   "metadata": {},
   "outputs": [],
   "source": [
    "merged_df = pd.concat([df1,df2,df3,df4,df5,df6,df7])"
   ]
  },
  {
   "cell_type": "code",
   "execution_count": 18,
   "metadata": {
    "scrolled": true
   },
   "outputs": [
    {
     "data": {
      "text/html": [
       "<div>\n",
       "<style scoped>\n",
       "    .dataframe tbody tr th:only-of-type {\n",
       "        vertical-align: middle;\n",
       "    }\n",
       "\n",
       "    .dataframe tbody tr th {\n",
       "        vertical-align: top;\n",
       "    }\n",
       "\n",
       "    .dataframe thead th {\n",
       "        text-align: right;\n",
       "    }\n",
       "</style>\n",
       "<table border=\"1\" class=\"dataframe\">\n",
       "  <thead>\n",
       "    <tr style=\"text-align: right;\">\n",
       "      <th></th>\n",
       "      <th>Unnamed: 0</th>\n",
       "      <th>event_time</th>\n",
       "      <th>event_type</th>\n",
       "      <th>product_id</th>\n",
       "      <th>category_id</th>\n",
       "      <th>category_code</th>\n",
       "      <th>brand</th>\n",
       "      <th>price</th>\n",
       "      <th>user_id</th>\n",
       "      <th>user_session</th>\n",
       "    </tr>\n",
       "  </thead>\n",
       "  <tbody>\n",
       "    <tr>\n",
       "      <th>0</th>\n",
       "      <td>3</td>\n",
       "      <td>2019-12-01 00:00:02 UTC</td>\n",
       "      <td>purchase</td>\n",
       "      <td>26400248</td>\n",
       "      <td>2053013553056579841</td>\n",
       "      <td>computers.peripherals.printer</td>\n",
       "      <td>NaN</td>\n",
       "      <td>132.31</td>\n",
       "      <td>535135317</td>\n",
       "      <td>61792a26-672f-4e61-9832-7b63bb1714db</td>\n",
       "    </tr>\n",
       "    <tr>\n",
       "      <th>1</th>\n",
       "      <td>111</td>\n",
       "      <td>2019-12-01 00:00:39 UTC</td>\n",
       "      <td>purchase</td>\n",
       "      <td>1004739</td>\n",
       "      <td>2232732093077520756</td>\n",
       "      <td>construction.tools.light</td>\n",
       "      <td>xiaomi</td>\n",
       "      <td>167.29</td>\n",
       "      <td>569958205</td>\n",
       "      <td>80afff78-be88-479a-8930-83b3e6220926</td>\n",
       "    </tr>\n",
       "    <tr>\n",
       "      <th>2</th>\n",
       "      <td>267</td>\n",
       "      <td>2019-12-01 00:01:35 UTC</td>\n",
       "      <td>purchase</td>\n",
       "      <td>1004833</td>\n",
       "      <td>2232732093077520756</td>\n",
       "      <td>construction.tools.light</td>\n",
       "      <td>samsung</td>\n",
       "      <td>167.03</td>\n",
       "      <td>557794415</td>\n",
       "      <td>6fecf566-ebb0-4e70-a243-cdc13ce044cb</td>\n",
       "    </tr>\n",
       "    <tr>\n",
       "      <th>3</th>\n",
       "      <td>315</td>\n",
       "      <td>2019-12-01 00:01:54 UTC</td>\n",
       "      <td>purchase</td>\n",
       "      <td>1004838</td>\n",
       "      <td>2232732093077520756</td>\n",
       "      <td>construction.tools.light</td>\n",
       "      <td>oppo</td>\n",
       "      <td>154.41</td>\n",
       "      <td>561593478</td>\n",
       "      <td>cc3328ce-e22a-49ba-b92a-3e143fb4b3d6</td>\n",
       "    </tr>\n",
       "    <tr>\n",
       "      <th>4</th>\n",
       "      <td>332</td>\n",
       "      <td>2019-12-01 00:02:01 UTC</td>\n",
       "      <td>purchase</td>\n",
       "      <td>1005003</td>\n",
       "      <td>2232732093077520756</td>\n",
       "      <td>construction.tools.light</td>\n",
       "      <td>huawei</td>\n",
       "      <td>227.64</td>\n",
       "      <td>555295228</td>\n",
       "      <td>3de3ac21-f446-4cf5-b3c3-06a051c5caa9</td>\n",
       "    </tr>\n",
       "  </tbody>\n",
       "</table>\n",
       "</div>"
      ],
      "text/plain": [
       "   Unnamed: 0               event_time event_type  product_id  \\\n",
       "0           3  2019-12-01 00:00:02 UTC   purchase    26400248   \n",
       "1         111  2019-12-01 00:00:39 UTC   purchase     1004739   \n",
       "2         267  2019-12-01 00:01:35 UTC   purchase     1004833   \n",
       "3         315  2019-12-01 00:01:54 UTC   purchase     1004838   \n",
       "4         332  2019-12-01 00:02:01 UTC   purchase     1005003   \n",
       "\n",
       "           category_id                  category_code    brand   price  \\\n",
       "0  2053013553056579841  computers.peripherals.printer      NaN  132.31   \n",
       "1  2232732093077520756       construction.tools.light   xiaomi  167.29   \n",
       "2  2232732093077520756       construction.tools.light  samsung  167.03   \n",
       "3  2232732093077520756       construction.tools.light     oppo  154.41   \n",
       "4  2232732093077520756       construction.tools.light   huawei  227.64   \n",
       "\n",
       "     user_id                          user_session  \n",
       "0  535135317  61792a26-672f-4e61-9832-7b63bb1714db  \n",
       "1  569958205  80afff78-be88-479a-8930-83b3e6220926  \n",
       "2  557794415  6fecf566-ebb0-4e70-a243-cdc13ce044cb  \n",
       "3  561593478  cc3328ce-e22a-49ba-b92a-3e143fb4b3d6  \n",
       "4  555295228  3de3ac21-f446-4cf5-b3c3-06a051c5caa9  "
      ]
     },
     "execution_count": 18,
     "metadata": {},
     "output_type": "execute_result"
    }
   ],
   "source": [
    "merged_df.head()"
   ]
  },
  {
   "cell_type": "markdown",
   "metadata": {},
   "source": [
    "### 불필요한 column 삭제"
   ]
  },
  {
   "cell_type": "code",
   "execution_count": 19,
   "metadata": {},
   "outputs": [],
   "source": [
    "merged_df = merged_df.drop([\"brand\",\"category_id\",\"product_id\",\"event_type\",\"Unnamed: 0\"],axis=1)"
   ]
  },
  {
   "cell_type": "markdown",
   "metadata": {},
   "source": [
    "### 결측치 삭제"
   ]
  },
  {
   "cell_type": "code",
   "execution_count": 20,
   "metadata": {
    "scrolled": true
   },
   "outputs": [
    {
     "data": {
      "text/plain": [
       "event_time            0\n",
       "category_code    768060\n",
       "price                 0\n",
       "user_id               0\n",
       "user_session          4\n",
       "dtype: int64"
      ]
     },
     "execution_count": 20,
     "metadata": {},
     "output_type": "execute_result"
    }
   ],
   "source": [
    "merged_df.isnull().sum()"
   ]
  },
  {
   "cell_type": "code",
   "execution_count": 21,
   "metadata": {},
   "outputs": [],
   "source": [
    "merged_df = merged_df.dropna()"
   ]
  },
  {
   "cell_type": "code",
   "execution_count": 22,
   "metadata": {},
   "outputs": [
    {
     "data": {
      "text/plain": [
       "event_time       0\n",
       "category_code    0\n",
       "price            0\n",
       "user_id          0\n",
       "user_session     0\n",
       "dtype: int64"
      ]
     },
     "execution_count": 22,
     "metadata": {},
     "output_type": "execute_result"
    }
   ],
   "source": [
    "merged_df.isnull().sum()"
   ]
  },
  {
   "cell_type": "code",
   "execution_count": 23,
   "metadata": {},
   "outputs": [
    {
     "name": "stdout",
     "output_type": "stream",
     "text": [
      "6080761\n"
     ]
    }
   ],
   "source": [
    "print(len(merged_df))"
   ]
  },
  {
   "cell_type": "code",
   "execution_count": 26,
   "metadata": {},
   "outputs": [],
   "source": [
    "merged_df.to_csv(\"./Dataset/E-commerce.csv\")"
   ]
  }
 ],
 "metadata": {
  "kernelspec": {
   "display_name": "Python 3",
   "language": "python",
   "name": "python3"
  },
  "language_info": {
   "codemirror_mode": {
    "name": "ipython",
    "version": 3
   },
   "file_extension": ".py",
   "mimetype": "text/x-python",
   "name": "python",
   "nbconvert_exporter": "python",
   "pygments_lexer": "ipython3",
   "version": "3.8.3"
  }
 },
 "nbformat": 4,
 "nbformat_minor": 4
}
